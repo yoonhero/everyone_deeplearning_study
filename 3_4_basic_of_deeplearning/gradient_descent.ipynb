{
 "cells": [
  {
   "cell_type": "code",
   "execution_count": 1,
   "metadata": {},
   "outputs": [],
   "source": [
    "import numpy as np\n",
    "import pandas as pd\n",
    "import matplotlib.pyplot as plt"
   ]
  },
  {
   "cell_type": "code",
   "execution_count": 2,
   "metadata": {},
   "outputs": [],
   "source": [
    "data = [[2, 81], [4,93], [6, 91], [8, 97]]\n",
    "x = [i[0] for i in data]\n",
    "y = [i[1] for i in data]"
   ]
  },
  {
   "cell_type": "code",
   "execution_count": 3,
   "metadata": {},
   "outputs": [
    {
     "data": {
      "image/png": "[encoded data removed]",
      "text/plain": [
       "<Figure size 576x360 with 1 Axes>"
      ]
     },
     "metadata": {
      "needs_background": "light"
     },
     "output_type": "display_data"
    }
   ],
   "source": [
    "plt.figure(figsize=(8, 5))\n",
    "plt.scatter(x, y)\n",
    "plt.show()"
   ]
  },
  {
   "cell_type": "code",
   "execution_count": 4,
   "metadata": {},
   "outputs": [],
   "source": [
    "x_data = np.array(x)\n",
    "y_data = np.array(y)"
   ]
  },
  {
   "cell_type": "code",
   "execution_count": 5,
   "metadata": {},
   "outputs": [],
   "source": [
    "a = 0\n",
    "b = 0"
   ]
  },
  {
   "cell_type": "code",
   "execution_count": 7,
   "metadata": {},
   "outputs": [],
   "source": [
    "# 학습률 정하기\n",
    "lr = 0.03\n",
    "\n",
    "# 몇 번 반복할지 설정\n",
    "epochs = 2001"
   ]
  },
  {
   "cell_type": "code",
   "execution_count": 8,
   "metadata": {},
   "outputs": [
    {
     "name": "stdout",
     "output_type": "stream",
     "text": [
      "epoch=0, 기울기=27.8400, 절편=5.4300\n",
      "epoch=100, 기울기=7.0739, 절편=50.5117\n",
      "epoch=200, 기울기=4.0960, 절편=68.2822\n",
      "epoch=300, 기울기=2.9757, 절편=74.9678\n",
      "epoch=400, 기울기=2.5542, 절편=77.4830\n",
      "epoch=500, 기울기=2.3956, 절편=78.4293\n",
      "epoch=600, 기울기=2.3360, 절편=78.7853\n",
      "epoch=700, 기울기=2.3135, 절편=78.9192\n",
      "epoch=800, 기울기=2.3051, 절편=78.9696\n",
      "epoch=900, 기울기=2.3019, 절편=78.9886\n",
      "epoch=1000, 기울기=2.3007, 절편=78.9957\n",
      "epoch=1100, 기울기=2.3003, 절편=78.9984\n",
      "epoch=1200, 기울기=2.3001, 절편=78.9994\n",
      "epoch=1300, 기울기=2.3000, 절편=78.9998\n",
      "epoch=1400, 기울기=2.3000, 절편=78.9999\n",
      "epoch=1500, 기울기=2.3000, 절편=79.0000\n",
      "epoch=1600, 기울기=2.3000, 절편=79.0000\n",
      "epoch=1700, 기울기=2.3000, 절편=79.0000\n",
      "epoch=1800, 기울기=2.3000, 절편=79.0000\n",
      "epoch=1900, 기울기=2.3000, 절편=79.0000\n",
      "epoch=2000, 기울기=2.3000, 절편=79.0000\n"
     ]
    }
   ],
   "source": [
    "for i in range(epochs):\n",
    "  y_pred = a * x_data + b\n",
    "  error = y_data - y_pred\n",
    "\n",
    "  # 오차 함수를 a로 미분한 값\n",
    "  a_diff = -(2/len(x_data)) * sum(x_data * error)\n",
    "  # 오차함수를 b로 미분한 값\n",
    "  b_diff = -(2/len(x_data)) * sum(error)\n",
    "\n",
    "  a = a - lr * a_diff\n",
    "  b = b - lr * b_diff\n",
    "\n",
    "  if i % 100 == 0:\n",
    "    print(\"epoch=%.f, 기울기=%.04f, 절편=%.04f\" % (i, a, b))"
   ]
  },
  {
   "cell_type": "code",
   "execution_count": 12,
   "metadata": {},
   "outputs": [
    {
     "data": {
      "image/png": "[encoded data removed]",
      "text/plain": [
       "<Figure size 432x288 with 1 Axes>"
      ]
     },
     "metadata": {
      "needs_background": "light"
     },
     "output_type": "display_data"
    }
   ],
   "source": [
    "y_pred = a * x_data + b\n",
    "plt.scatter(x, y)\n",
    "plt.plot([min(x_data), max(x_data)], [min(y_pred), max(y_pred)])\n",
    "plt.show()"
   ]
  },
  {
   "cell_type": "code",
   "execution_count": null,
   "metadata": {},
   "outputs": [],
   "source": []
  }
 ],
 "metadata": {
  "interpreter": {
   "hash": "aee8b7b246df8f9039afb4144a1f6fd8d2ca17a180786b69acc140d282b71a49"
  },
  "kernelspec": {
   "display_name": "Python 3.9.1 64-bit",
   "language": "python",
   "name": "python3"
  },
  "language_info": {
   "codemirror_mode": {
    "name": "ipython",
    "version": 3
   },
   "file_extension": ".py",
   "mimetype": "text/x-python",
   "name": "python",
   "nbconvert_exporter": "python",
   "pygments_lexer": "ipython3",
   "version": "3.9.1"
  },
  "orig_nbformat": 4
 },
 "nbformat": 4,
 "nbformat_minor": 2
}
