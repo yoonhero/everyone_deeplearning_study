{
 "cells": [
  {
   "cell_type": "code",
   "execution_count": 11,
   "source": [
    "from keras.datasets import reuters\n",
    "from keras.models import Sequential\n",
    "from keras.layers import Dense, LSTM, Embedding\n",
    "from keras.preprocessing import sequence\n",
    "from keras.utils import np_utils\n",
    "\n",
    "import numpy \n",
    "import tensorflow as tf\n",
    "import matplotlib.pyplot as plt"
   ],
   "outputs": [],
   "metadata": {}
  },
  {
   "cell_type": "code",
   "execution_count": 9,
   "source": [
    "import ssl\n",
    "\n",
    "ssl._create_default_https_context = ssl._create_unverified_context"
   ],
   "outputs": [],
   "metadata": {}
  },
  {
   "cell_type": "code",
   "execution_count": 10,
   "source": [
    "(X_train, Y_train), (X_test, Y_test) = reuters.load_data(num_words=1000, test_split=0.2)"
   ],
   "outputs": [],
   "metadata": {}
  },
  {
   "cell_type": "code",
   "execution_count": 6,
   "source": [
    "category = numpy.max(Y_train) + 1"
   ],
   "outputs": [
    {
     "output_type": "execute_result",
     "data": {
      "text/plain": [
       "46"
      ]
     },
     "metadata": {},
     "execution_count": 6
    }
   ],
   "metadata": {}
  },
  {
   "cell_type": "code",
   "execution_count": 15,
   "source": [
    "# 데이터 잔처리\n",
    "\n",
    "x_train = sequence.pad_sequences(X_train, maxlen=100)\n",
    "x_test = sequence.pad_sequences(X_test, maxlen=100)\n",
    "\n",
    "y_train = np_utils.to_categorical(Y_train)\n",
    "y_test = np_utils.to_categorical(Y_test)"
   ],
   "outputs": [],
   "metadata": {}
  },
  {
   "cell_type": "code",
   "execution_count": 14,
   "source": [
    "# 모델\n",
    "\n",
    "model = Sequential()\n",
    "model.add(Embedding(1000, 100))\n",
    "model.add(LSTM(100, activation=\"tanh\"))\n",
    "model.add(Dense(46, activation=\"softmax\"))\n",
    "\n",
    "model.compile(loss=\"categorical_crossentropy\", optimizer=\"adam\", metrics=[\"accuracy\"])"
   ],
   "outputs": [],
   "metadata": {}
  },
  {
   "cell_type": "code",
   "execution_count": 16,
   "source": [
    "history = model.fit(x_train, y_train, batch_size=100, epochs=20, validation_data=(x_test, y_test))"
   ],
   "outputs": [
    {
     "output_type": "stream",
     "name": "stdout",
     "text": [
      "Epoch 1/20\n",
      "90/90 [==============================] - 27s 269ms/step - loss: 2.6181 - accuracy: 0.3402 - val_loss: 2.3100 - val_accuracy: 0.3620\n",
      "Epoch 2/20\n",
      "90/90 [==============================] - 25s 278ms/step - loss: 2.2771 - accuracy: 0.4134 - val_loss: 2.4214 - val_accuracy: 0.3620\n",
      "Epoch 3/20\n",
      "90/90 [==============================] - 25s 277ms/step - loss: 2.2211 - accuracy: 0.4126 - val_loss: 1.9528 - val_accuracy: 0.5125\n",
      "Epoch 4/20\n",
      "90/90 [==============================] - 25s 278ms/step - loss: 1.8500 - accuracy: 0.5131 - val_loss: 1.7817 - val_accuracy: 0.5414\n",
      "Epoch 5/20\n",
      "90/90 [==============================] - 24s 265ms/step - loss: 1.7150 - accuracy: 0.5612 - val_loss: 1.7059 - val_accuracy: 0.5597\n",
      "Epoch 6/20\n",
      "90/90 [==============================] - 24s 264ms/step - loss: 1.6239 - accuracy: 0.5885 - val_loss: 1.6553 - val_accuracy: 0.5815\n",
      "Epoch 7/20\n",
      "90/90 [==============================] - 27s 305ms/step - loss: 1.5336 - accuracy: 0.6118 - val_loss: 1.5720 - val_accuracy: 0.6051\n",
      "Epoch 8/20\n",
      "90/90 [==============================] - 26s 289ms/step - loss: 1.4480 - accuracy: 0.6326 - val_loss: 1.5259 - val_accuracy: 0.6126\n",
      "Epoch 9/20\n",
      "90/90 [==============================] - 29s 320ms/step - loss: 1.3661 - accuracy: 0.6532 - val_loss: 1.4362 - val_accuracy: 0.6340\n",
      "Epoch 10/20\n",
      "90/90 [==============================] - 32s 354ms/step - loss: 1.3162 - accuracy: 0.6654 - val_loss: 1.4380 - val_accuracy: 0.6358\n",
      "Epoch 11/20\n",
      "90/90 [==============================] - 29s 318ms/step - loss: 1.2489 - accuracy: 0.6828 - val_loss: 1.4033 - val_accuracy: 0.6460\n",
      "Epoch 12/20\n",
      "90/90 [==============================] - 29s 325ms/step - loss: 1.1878 - accuracy: 0.7021 - val_loss: 1.3528 - val_accuracy: 0.6621\n",
      "Epoch 13/20\n",
      "90/90 [==============================] - 23s 254ms/step - loss: 1.1171 - accuracy: 0.7164 - val_loss: 1.2960 - val_accuracy: 0.6705\n",
      "Epoch 14/20\n",
      "90/90 [==============================] - 18s 200ms/step - loss: 1.0743 - accuracy: 0.7263 - val_loss: 1.2883 - val_accuracy: 0.6714\n",
      "Epoch 15/20\n",
      "90/90 [==============================] - 18s 197ms/step - loss: 1.0214 - accuracy: 0.7430 - val_loss: 1.2512 - val_accuracy: 0.6861\n",
      "Epoch 16/20\n",
      "90/90 [==============================] - 18s 196ms/step - loss: 0.9837 - accuracy: 0.7522 - val_loss: 1.2228 - val_accuracy: 0.6977\n",
      "Epoch 17/20\n",
      "90/90 [==============================] - 20s 218ms/step - loss: 0.9242 - accuracy: 0.7676 - val_loss: 1.2329 - val_accuracy: 0.6923\n",
      "Epoch 18/20\n",
      "90/90 [==============================] - 24s 269ms/step - loss: 0.9041 - accuracy: 0.7713 - val_loss: 1.2218 - val_accuracy: 0.6999\n",
      "Epoch 19/20\n",
      "90/90 [==============================] - 22s 248ms/step - loss: 0.8566 - accuracy: 0.7846 - val_loss: 1.2237 - val_accuracy: 0.7026\n",
      "Epoch 20/20\n",
      "90/90 [==============================] - 21s 236ms/step - loss: 0.8213 - accuracy: 0.7909 - val_loss: 1.1929 - val_accuracy: 0.7057\n"
     ]
    }
   ],
   "metadata": {}
  },
  {
   "cell_type": "code",
   "execution_count": 17,
   "source": [
    "y_vloss = history.history[\"val_loss\"]\n",
    "\n",
    "y_loss = history.history[\"loss\"]\n",
    "\n",
    "x_len = numpy.arange(len(y_loss))\n",
    "plt.plot(x_len, y_vloss, marker=\".\", c=\"red\", label=\"Testset_loss\")\n",
    "plt.plot(x_len, y_loss, marker=\".\", c=\"blue\", label=\"Trainset_loss\")"
   ],
   "outputs": [
    {
     "output_type": "execute_result",
     "data": {
      "text/plain": [
       "[<matplotlib.lines.Line2D at 0x7f893e8a98e0>]"
      ]
     },
     "metadata": {},
     "execution_count": 17
    },
    {
     "output_type": "display_data",
     "data": {
      "image/png": "[encoded data removed]",
      "text/plain": [
       "<Figure size 432x288 with 1 Axes>"
      ]
     },
     "metadata": {
      "needs_background": "light"
     }
    }
   ],
   "metadata": {}
  },
  {
   "cell_type": "code",
   "execution_count": 18,
   "source": [
    "plt.legend(loc=\"upper right\")\n",
    "plt.grid()\n",
    "plt.xlabel(\"epoch\")\n",
    "plt.ylabel('loss')\n",
    "plt.show()"
   ],
   "outputs": [
    {
     "output_type": "stream",
     "name": "stderr",
     "text": [
      "No handles with labels found to put in legend.\n"
     ]
    },
    {
     "output_type": "display_data",
     "data": {
      "image/png": "[encoded data removed]",
      "text/plain": [
       "<Figure size 432x288 with 1 Axes>"
      ]
     },
     "metadata": {
      "needs_background": "light"
     }
    }
   ],
   "metadata": {}
  },
  {
   "cell_type": "code",
   "execution_count": 19,
   "source": [
    "model.save(\"lstm.hdf5\")"
   ],
   "outputs": [],
   "metadata": {}
  },
  {
   "cell_type": "code",
   "execution_count": null,
   "source": [],
   "outputs": [],
   "metadata": {}
  }
 ],
 "metadata": {
  "orig_nbformat": 4,
  "language_info": {
   "name": "python",
   "version": "3.9.1",
   "mimetype": "text/x-python",
   "codemirror_mode": {
    "name": "ipython",
    "version": 3
   },
   "pygments_lexer": "ipython3",
   "nbconvert_exporter": "python",
   "file_extension": ".py"
  },
  "kernelspec": {
   "name": "python3",
   "display_name": "Python 3.9.1 64-bit"
  },
  "interpreter": {
   "hash": "aee8b7b246df8f9039afb4144a1f6fd8d2ca17a180786b69acc140d282b71a49"
  }
 },
 "nbformat": 4,
 "nbformat_minor": 2
}