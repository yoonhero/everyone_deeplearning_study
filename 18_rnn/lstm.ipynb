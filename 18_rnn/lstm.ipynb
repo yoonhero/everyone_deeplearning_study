{
 "cells": [
  {
   "cell_type": "code",
   "execution_count": 2,
   "metadata": {},
   "outputs": [],
   "source": [
    "from keras.datasets import reuters\n",
    "from keras.models import Sequential\n",
    "from keras.layers import Dense, LSTM, Embedding\n",
    "from keras.preprocessing import sequence\n",
    "from keras.utils import np_utils\n",
    "\n",
    "import numpy \n",
    "import tensorflow as tf\n",
    "import matplotlib.pyplot as plt"
   ]
  },
  {
   "cell_type": "code",
   "execution_count": 3,
   "metadata": {},
   "outputs": [],
   "source": [
    "import ssl\n",
    "\n",
    "ssl._create_default_https_context = ssl._create_unverified_context"
   ]
  },
  {
   "cell_type": "code",
   "execution_count": 4,
   "metadata": {},
   "outputs": [],
   "source": [
    "(X_train, Y_train), (X_test, Y_test) = reuters.load_data(num_words=1000, test_split=0.2)"
   ]
  },
  {
   "cell_type": "code",
   "execution_count": 5,
   "metadata": {},
   "outputs": [],
   "source": [
    "category = numpy.max(Y_train) + 1"
   ]
  },
  {
   "cell_type": "code",
   "execution_count": 6,
   "metadata": {},
   "outputs": [],
   "source": [
    "# 데이터 잔처리\n",
    "\n",
    "x_train = sequence.pad_sequences(X_train, maxlen=100)\n",
    "x_test = sequence.pad_sequences(X_test, maxlen=100)\n",
    "\n",
    "y_train = np_utils.to_categorical(Y_train)\n",
    "y_test = np_utils.to_categorical(Y_test)"
   ]
  },
  {
   "cell_type": "code",
   "execution_count": 7,
   "metadata": {},
   "outputs": [],
   "source": [
    "# 모델\n",
    "\n",
    "model = Sequential()\n",
    "model.add(Embedding(1000, 100))\n",
    "model.add(LSTM(100, activation=\"tanh\"))\n",
    "model.add(Dense(46, activation=\"softmax\"))\n",
    "\n",
    "model.compile(loss=\"categorical_crossentropy\", optimizer=\"adam\", metrics=[\"accuracy\"])"
   ]
  },
  {
   "cell_type": "code",
   "execution_count": 8,
   "metadata": {},
   "outputs": [
    {
     "name": "stdout",
     "output_type": "stream",
     "text": [
      "Epoch 1/20\n",
      "90/90 [==============================] - 20s 188ms/step - loss: 2.5609 - accuracy: 0.3629 - val_loss: 2.1578 - val_accuracy: 0.4800\n",
      "Epoch 2/20\n",
      "90/90 [==============================] - 19s 213ms/step - loss: 2.1563 - accuracy: 0.4558 - val_loss: 2.0553 - val_accuracy: 0.4964\n",
      "Epoch 3/20\n",
      "90/90 [==============================] - 21s 238ms/step - loss: 1.9981 - accuracy: 0.5114 - val_loss: 1.9823 - val_accuracy: 0.5227\n",
      "Epoch 4/20\n",
      "90/90 [==============================] - 23s 250ms/step - loss: 1.8766 - accuracy: 0.5379 - val_loss: 1.8500 - val_accuracy: 0.5650\n",
      "Epoch 5/20\n",
      "90/90 [==============================] - 23s 258ms/step - loss: 1.6863 - accuracy: 0.5684 - val_loss: 1.6825 - val_accuracy: 0.5833\n",
      "Epoch 6/20\n",
      "90/90 [==============================] - 23s 259ms/step - loss: 1.6068 - accuracy: 0.5875 - val_loss: 1.6392 - val_accuracy: 0.5980\n",
      "Epoch 7/20\n",
      "90/90 [==============================] - 26s 291ms/step - loss: 1.5076 - accuracy: 0.6189 - val_loss: 1.5572 - val_accuracy: 0.6198\n",
      "Epoch 8/20\n",
      "90/90 [==============================] - 24s 266ms/step - loss: 1.3804 - accuracy: 0.6505 - val_loss: 1.4655 - val_accuracy: 0.6313\n",
      "Epoch 9/20\n",
      "90/90 [==============================] - 24s 269ms/step - loss: 1.2942 - accuracy: 0.6732 - val_loss: 1.3752 - val_accuracy: 0.6652\n",
      "Epoch 10/20\n",
      "90/90 [==============================] - 24s 261ms/step - loss: 1.2004 - accuracy: 0.6962 - val_loss: 1.3268 - val_accuracy: 0.6719\n",
      "Epoch 11/20\n",
      "90/90 [==============================] - 23s 257ms/step - loss: 1.1309 - accuracy: 0.7139 - val_loss: 1.2973 - val_accuracy: 0.6759\n",
      "Epoch 12/20\n",
      "90/90 [==============================] - 21s 234ms/step - loss: 1.0803 - accuracy: 0.7201 - val_loss: 1.2750 - val_accuracy: 0.6799\n",
      "Epoch 13/20\n",
      "90/90 [==============================] - 21s 233ms/step - loss: 1.0215 - accuracy: 0.7351 - val_loss: 1.2491 - val_accuracy: 0.6892\n",
      "Epoch 14/20\n",
      "90/90 [==============================] - 21s 230ms/step - loss: 0.9703 - accuracy: 0.7494 - val_loss: 1.2714 - val_accuracy: 0.6736\n",
      "Epoch 15/20\n",
      "90/90 [==============================] - 23s 261ms/step - loss: 0.9142 - accuracy: 0.7679 - val_loss: 1.2350 - val_accuracy: 0.6937\n",
      "Epoch 16/20\n",
      "90/90 [==============================] - 23s 251ms/step - loss: 0.8835 - accuracy: 0.7772 - val_loss: 1.2213 - val_accuracy: 0.6972\n",
      "Epoch 17/20\n",
      "90/90 [==============================] - 22s 245ms/step - loss: 0.8470 - accuracy: 0.7870 - val_loss: 1.2110 - val_accuracy: 0.6959\n",
      "Epoch 18/20\n",
      "90/90 [==============================] - 22s 246ms/step - loss: 0.7948 - accuracy: 0.8000 - val_loss: 1.2815 - val_accuracy: 0.6879\n",
      "Epoch 19/20\n",
      "90/90 [==============================] - 22s 240ms/step - loss: 0.7795 - accuracy: 0.8071 - val_loss: 1.2458 - val_accuracy: 0.7030\n",
      "Epoch 20/20\n",
      "90/90 [==============================] - 22s 240ms/step - loss: 0.7506 - accuracy: 0.8133 - val_loss: 1.2417 - val_accuracy: 0.7102\n"
     ]
    }
   ],
   "source": [
    "history = model.fit(x_train, y_train, batch_size=100, epochs=20, validation_data=(x_test, y_test))"
   ]
  },
  {
   "cell_type": "code",
   "execution_count": 9,
   "metadata": {},
   "outputs": [
    {
     "data": {
      "text/plain": [
       "[<matplotlib.lines.Line2D at 0x7f9df6360a90>]"
      ]
     },
     "execution_count": 9,
     "metadata": {},
     "output_type": "execute_result"
    },
    {
     "data": {
      "image/png": "[encoded data removed]",
      "text/plain": [
       "<Figure size 432x288 with 1 Axes>"
      ]
     },
     "metadata": {
      "needs_background": "light"
     },
     "output_type": "display_data"
    }
   ],
   "source": [
    "y_vloss = history.history[\"val_loss\"]\n",
    "\n",
    "y_loss = history.history[\"loss\"]\n",
    "\n",
    "x_len = numpy.arange(len(y_loss))\n",
    "plt.plot(x_len, y_vloss, marker=\".\", c=\"red\", label=\"Testset_loss\")\n",
    "plt.plot(x_len, y_loss, marker=\".\", c=\"blue\", label=\"Trainset_loss\")"
   ]
  },
  {
   "cell_type": "code",
   "execution_count": 10,
   "metadata": {},
   "outputs": [
    {
     "name": "stderr",
     "output_type": "stream",
     "text": [
      "No handles with labels found to put in legend.\n"
     ]
    },
    {
     "data": {
      "image/png": "[encoded data removed]",
      "text/plain": [
       "<Figure size 432x288 with 1 Axes>"
      ]
     },
     "metadata": {
      "needs_background": "light"
     },
     "output_type": "display_data"
    }
   ],
   "source": [
    "plt.legend(loc=\"upper right\")\n",
    "plt.grid()\n",
    "plt.xlabel(\"epoch\")\n",
    "plt.ylabel('loss')\n",
    "plt.show()"
   ]
  },
  {
   "cell_type": "code",
   "execution_count": 11,
   "metadata": {},
   "outputs": [],
   "source": [
    "model.save(\"lstm.hdf5\")"
   ]
  },
  {
   "cell_type": "code",
   "execution_count": null,
   "metadata": {},
   "outputs": [],
   "source": []
  }
 ],
 "metadata": {
  "interpreter": {
   "hash": "aee8b7b246df8f9039afb4144a1f6fd8d2ca17a180786b69acc140d282b71a49"
  },
  "kernelspec": {
   "display_name": "Python 3.9.1 64-bit",
   "name": "python3"
  },
  "language_info": {
   "codemirror_mode": {
    "name": "ipython",
    "version": 3
   },
   "file_extension": ".py",
   "mimetype": "text/x-python",
   "name": "python",
   "nbconvert_exporter": "python",
   "pygments_lexer": "ipython3",
   "version": "3.9.1"
  },
  "orig_nbformat": 4
 },
 "nbformat": 4,
 "nbformat_minor": 2
}
