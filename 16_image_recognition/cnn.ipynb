{
 "cells": [
  {
   "cell_type": "code",
   "execution_count": 3,
   "metadata": {},
   "outputs": [],
   "source": [
    "from keras.datasets import mnist\n",
    "from keras.utils import np_utils\n",
    "from keras.models import Sequential\n",
    "from keras.layers import Dense, Dropout, Flatten, Conv2D, MaxPooling2D\n",
    "from keras.callbacks import ModelCheckpoint, EarlyStopping"
   ]
  },
  {
   "cell_type": "code",
   "execution_count": 4,
   "metadata": {},
   "outputs": [],
   "source": [
    "import matplotlib.pyplot as plt\n",
    "import numpy\n",
    "import os\n",
    "import tensorflow as tf"
   ]
  },
  {
   "cell_type": "code",
   "execution_count": 5,
   "metadata": {},
   "outputs": [],
   "source": [
    "# set seed value\n",
    "\n",
    "seed = 0\n",
    "numpy.random.seed(seed)\n",
    "tf.random.set_seed(3)"
   ]
  },
  {
   "cell_type": "code",
   "execution_count": 6,
   "metadata": {},
   "outputs": [
    {
     "name": "stdout",
     "output_type": "stream",
     "text": [
      "학습셋 이미지 수: 60000 개\n",
      "테스트셋 이미지 수: 10000 개\n"
     ]
    }
   ],
   "source": [
    "(X_train, Y_class_train), (X_test, Y_class_test) = mnist.load_data()\n",
    "\n",
    "print(\"학습셋 이미지 수: %d 개\" % (X_train.shape[0]))\n",
    "print(\"테스트셋 이미지 수: %d 개\" % (X_test.shape[0]))\n",
    "X_train = X_train.reshape(X_train.shape[0], 28,28,1)\n",
    "X_train = X_train.astype(\"float32\")\n",
    "X_train = X_train / 255\n",
    "X_test = X_test.reshape(X_test.shape[0], 28,28,1).astype(\"float32\") / 255\n",
    "Y_train = np_utils.to_categorical(Y_class_train)\n",
    "Y_test = np_utils.to_categorical(Y_class_test)"
   ]
  },
  {
   "cell_type": "code",
   "execution_count": 7,
   "metadata": {},
   "outputs": [],
   "source": [
    "model = Sequential()\n",
    "model.add(Conv2D(32, kernel_size=(3,3), input_shape=(28, 28, 1), activation=\"relu\"))\n",
    "model.add(Conv2D(64, (3, 3), activation=\"relu\"))\n",
    "model.add(MaxPooling2D(pool_size=2))\n",
    "model.add(Dropout(0.25))\n",
    "model.add(Flatten())\n",
    "model.add(Dense(128, activation=\"relu\"))\n",
    "model.add(Dropout(0.5))\n",
    "model.add(Dense(10, activation=\"softmax\"))"
   ]
  },
  {
   "cell_type": "code",
   "execution_count": 8,
   "metadata": {},
   "outputs": [],
   "source": [
    "model.compile(loss=\"categorical_crossentropy\", optimizer=\"adam\", metrics=[\"accuracy\"])"
   ]
  },
  {
   "cell_type": "code",
   "execution_count": 9,
   "metadata": {},
   "outputs": [],
   "source": [
    "MODEL_DIR = \"./model/\"\n",
    "if not os.path.exists(MODEL_DIR):\n",
    "  os.mkdir(MODEL_DIR)\n",
    "\n",
    "modelpath=\"./model/{epoch:02d}-{val_loss:.4f}.hdf5\"\n",
    "checkpointer = ModelCheckpoint(filepath=modelpath, monitor=\"val_loss\", verbose=1, save_best_only=True)\n",
    "early_stopping_callback = EarlyStopping(monitor=\"val_loss\", patience=10)"
   ]
  },
  {
   "cell_type": "code",
   "execution_count": 10,
   "metadata": {},
   "outputs": [
    {
     "name": "stdout",
     "output_type": "stream",
     "text": [
      "\n",
      "Epoch 00001: val_loss improved from inf to 0.05421, saving model to ./model\\01-0.0542.hdf5\n",
      "\n",
      "Epoch 00002: val_loss improved from 0.05421 to 0.04064, saving model to ./model\\02-0.0406.hdf5\n",
      "\n",
      "Epoch 00003: val_loss improved from 0.04064 to 0.03740, saving model to ./model\\03-0.0374.hdf5\n",
      "\n",
      "Epoch 00004: val_loss improved from 0.03740 to 0.03232, saving model to ./model\\04-0.0323.hdf5\n",
      "\n",
      "Epoch 00005: val_loss improved from 0.03232 to 0.03198, saving model to ./model\\05-0.0320.hdf5\n",
      "\n",
      "Epoch 00006: val_loss improved from 0.03198 to 0.02985, saving model to ./model\\06-0.0298.hdf5\n",
      "\n",
      "Epoch 00007: val_loss did not improve from 0.02985\n",
      "\n",
      "Epoch 00008: val_loss did not improve from 0.02985\n",
      "\n",
      "Epoch 00009: val_loss improved from 0.02985 to 0.02917, saving model to ./model\\09-0.0292.hdf5\n",
      "\n",
      "Epoch 00010: val_loss did not improve from 0.02917\n",
      "\n",
      "Epoch 00011: val_loss improved from 0.02917 to 0.02902, saving model to ./model\\11-0.0290.hdf5\n",
      "\n",
      "Epoch 00012: val_loss improved from 0.02902 to 0.02523, saving model to ./model\\12-0.0252.hdf5\n",
      "\n",
      "Epoch 00013: val_loss improved from 0.02523 to 0.02462, saving model to ./model\\13-0.0246.hdf5\n",
      "\n",
      "Epoch 00014: val_loss improved from 0.02462 to 0.02401, saving model to ./model\\14-0.0240.hdf5\n",
      "\n",
      "Epoch 00015: val_loss did not improve from 0.02401\n",
      "\n",
      "Epoch 00016: val_loss did not improve from 0.02401\n",
      "\n",
      "Epoch 00017: val_loss did not improve from 0.02401\n",
      "\n",
      "Epoch 00018: val_loss did not improve from 0.02401\n",
      "\n",
      "Epoch 00019: val_loss did not improve from 0.02401\n",
      "\n",
      "Epoch 00020: val_loss did not improve from 0.02401\n",
      "\n",
      "Epoch 00021: val_loss did not improve from 0.02401\n",
      "\n",
      "Epoch 00022: val_loss did not improve from 0.02401\n",
      "\n",
      "Epoch 00023: val_loss did not improve from 0.02401\n",
      "\n",
      "Epoch 00024: val_loss did not improve from 0.02401\n"
     ]
    }
   ],
   "source": [
    "# cpu 혼자만으로 감당을 못하기에 gpu 환경에서 꼭 실행해야됨\n",
    "# tf.config.run_functions_eagerly(True)\n",
    "history = model.fit(X_train, Y_train, validation_data=(X_test, Y_test), epochs=30, batch_size=200, verbose=0, callbacks=[early_stopping_callback, checkpointer])"
   ]
  },
  {
   "cell_type": "code",
   "execution_count": 11,
   "metadata": {},
   "outputs": [
    {
     "name": "stdout",
     "output_type": "stream",
     "text": [
      "313/313 [==============================] - 2s 6ms/step - loss: 0.0325 - accuracy: 0.9931\n",
      "\n",
      " Test Accuracy: 0.9931\n"
     ]
    }
   ],
   "source": [
    "print(\"\\n Test Accuracy: %.4f\" % (model.evaluate(X_test, Y_test)[1]))"
   ]
  },
  {
   "cell_type": "code",
   "execution_count": 12,
   "metadata": {},
   "outputs": [
    {
     "data": {
      "image/png": "[encoded data removed]",
      "text/plain": [
       "<Figure size 432x288 with 1 Axes>"
      ]
     },
     "metadata": {
      "needs_background": "light"
     },
     "output_type": "display_data"
    }
   ],
   "source": [
    "y_vloss = history.history[\"val_loss\"]\n",
    "\n",
    "y_loss = history.history[\"loss\"]\n",
    "\n",
    "# 그래프로 표현\n",
    "x_len = numpy.arange(len(y_loss))\n",
    "plt.plot(x_len, y_vloss, marker=\".\", c=\"red\", label=\"Testset_loss\")\n",
    "\n",
    "plt.plot(x_len, y_loss, marker=\".\", c=\"blue\", label=\"Trainset_loss\")\n",
    "\n",
    "# 그래프에 그리드를 주고 레이블을 표시\n",
    "plt.legend(loc=\"upper right\")\n",
    "\n",
    "plt.grid()\n",
    "plt.xlabel(\"epoch\")\n",
    "plt.ylabel(\"loss\")\n",
    "plt.show()"
   ]
  }
 ],
 "metadata": {
  "interpreter": {
   "hash": "aee8b7b246df8f9039afb4144a1f6fd8d2ca17a180786b69acc140d282b71a49"
  },
  "kernelspec": {
   "display_name": "Python 3.9.1 64-bit",
   "name": "python3"
  },
  "language_info": {
   "codemirror_mode": {
    "name": "ipython",
    "version": 3
   },
   "file_extension": ".py",
   "mimetype": "text/x-python",
   "name": "python",
   "nbconvert_exporter": "python",
   "pygments_lexer": "ipython3",
   "version": "3.8.8"
  },
  "orig_nbformat": 4
 },
 "nbformat": 4,
 "nbformat_minor": 2
}
